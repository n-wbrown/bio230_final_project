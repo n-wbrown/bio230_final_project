{
 "cells": [
  {
   "cell_type": "code",
   "execution_count": null,
   "id": "6c608914",
   "metadata": {},
   "outputs": [],
   "source": [
    "\n",
    "%load_ext autoreload\n",
    "%autoreload 2\n",
    "# %matplotlib inline"
   ]
  },
  {
   "cell_type": "code",
   "execution_count": null,
   "id": "b1bba7c2",
   "metadata": {},
   "outputs": [],
   "source": [
    "from functools import partial\n",
    "\n",
    "import matplotlib.pyplot as plt\n",
    "import numpy as np\n",
    "import pytest\n",
    "import sympy as sp\n",
    "\n",
    "from src.diff_eq_generator import (\n",
    "    ReactionNetwork,\n",
    "    create_callables,\n",
    "    generate_reaction_network,\n",
    ")\n",
    "from src.diff_eq_simulator import (simulate_differential_equation,\n",
    "    simulate_network)\n",
    "from src.utils import lotka_volterra\n"
   ]
  },
  {
   "cell_type": "code",
   "execution_count": null,
   "id": "2d5e81f1",
   "metadata": {},
   "outputs": [],
   "source": [
    "# Set to true to generate graphs\n",
    "SAVE_FIG = True"
   ]
  },
  {
   "cell_type": "markdown",
   "id": "5174a961",
   "metadata": {},
   "source": [
    "# Differential Equation Solver plots"
   ]
  },
  {
   "cell_type": "code",
   "execution_count": null,
   "id": "74924aed",
   "metadata": {},
   "outputs": [],
   "source": [
    "\n",
    "t_start=0\n",
    "t_end = 8\n",
    "steps=20000\n",
    "species, times = simulate_differential_equation(\n",
    "    lotka_volterra,\n",
    "    x0=np.array([1.5,2.5]),\n",
    "    t0=t_start,\n",
    "    tf=t_end,\n",
    "    num_steps=steps,\n",
    ")\n",
    "\n",
    "species_n, times_n = simulate_differential_equation(\n",
    "    lotka_volterra,\n",
    "    x0=np.array([1.5,2.5]),\n",
    "    t0=t_start,\n",
    "    tf=t_end,\n",
    "    num_steps=steps,\n",
    "    noise_intensity=np.array([1e-3,1e-4])\n",
    ")\n"
   ]
  },
  {
   "cell_type": "code",
   "execution_count": null,
   "id": "7c78114c",
   "metadata": {},
   "outputs": [],
   "source": [
    "fig = plt.figure(layout=\"constrained\")\n",
    "fig.set_size_inches(9, 9)\n",
    "fig.tight_layout(pad=10.5)\n",
    "axes = fig.subplots(2,2)\n",
    "\n",
    "axes[0][0].set(title='Qty. vs Time, w/o noise', xlabel=\"t\", ylabel=\"n\")\n",
    "axes[0][1].set(title='Phase diagram, w/o noise', xlabel=\"x\", ylabel=\"y\")\n",
    "axes[0][0].plot(times, species[:,0], label=f\"x\")\n",
    "axes[0][0].plot(times, species[:,1], label=f\"y\")\n",
    "axes[0][1].plot(species[:,0], species[:,1])\n",
    "\n",
    "axes[1][0].set(title='Qty. vs Time, w/ noise', xlabel=\"t\", ylabel=\"n\")\n",
    "axes[1][1].set(title='Phase diagram, w/ noise', xlabel=\"x\", ylabel=\"y\")\n",
    "axes[1][0].plot(times_n, species_n[:,0], label=f\"x\")\n",
    "axes[1][0].plot(times_n, species_n[:,1], label=f\"y\")\n",
    "axes[1][1].plot(species_n[:,0], species_n[:,1])\n",
    "\n",
    "axes[0][0].legend()\n",
    "axes[1][0].legend()\n",
    "# plt.savefig('test_simulate_differential_equations.png')\n",
    "# plt.show(fig)\n",
    "if SAVE_FIG:\n",
    "    plt.savefig(\"lotka_volterra_example.png\")"
   ]
  },
  {
   "cell_type": "code",
   "execution_count": null,
   "id": "1f19f21f",
   "metadata": {},
   "outputs": [],
   "source": []
  },
  {
   "cell_type": "code",
   "execution_count": null,
   "id": "bc72bf36",
   "metadata": {},
   "outputs": [],
   "source": []
  }
 ],
 "metadata": {
  "language_info": {
   "name": "python"
  }
 },
 "nbformat": 4,
 "nbformat_minor": 5
}

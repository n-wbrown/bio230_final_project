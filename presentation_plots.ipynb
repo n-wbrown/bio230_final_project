{
 "cells": [
  {
   "cell_type": "code",
   "execution_count": null,
   "id": "6c608914",
   "metadata": {},
   "outputs": [],
   "source": [
    "\n",
    "%load_ext autoreload\n",
    "%autoreload 2\n",
    "# %matplotlib inline"
   ]
  },
  {
   "cell_type": "code",
   "execution_count": null,
   "id": "b1bba7c2",
   "metadata": {},
   "outputs": [],
   "source": [
    "from functools import partial\n",
    "\n",
    "\n",
    "from IPython.display import Latex, display_latex\n",
    "\n",
    "import matplotlib.pyplot as plt\n",
    "import numpy as np\n",
    "import pytest\n",
    "import sympy as sp\n",
    "\n",
    "import pysr\n",
    "\n",
    "from src.diff_eq_generator import (\n",
    "    ReactionNetwork,\n",
    "    create_callables,\n",
    "    generate_reaction_network,\n",
    ")\n",
    "from src.diff_eq_simulator import (simulate_differential_equation)\n",
    "from src.diff_eq_recreator import (regressor_fit, rand_runner, data_set_bundler)\n",
    "from src.utils import lotka_volterra, derivative_finder_diff\n"
   ]
  },
  {
   "cell_type": "code",
   "execution_count": null,
   "id": "2d5e81f1",
   "metadata": {},
   "outputs": [],
   "source": [
    "# Set to true to generate graphs\n",
    "SAVE_FIG = True"
   ]
  },
  {
   "cell_type": "markdown",
   "id": "5174a961",
   "metadata": {},
   "source": [
    "# Differential Equation Solver - Lotka-Volterra Example"
   ]
  },
  {
   "cell_type": "markdown",
   "id": "bff3870f",
   "metadata": {},
   "source": [
    "## Creating a simulated system"
   ]
  },
  {
   "cell_type": "code",
   "execution_count": null,
   "id": "74924aed",
   "metadata": {},
   "outputs": [],
   "source": [
    "\n",
    "t_start=0\n",
    "t_end = 8\n",
    "steps=20000\n",
    "species, times = simulate_differential_equation(\n",
    "    lotka_volterra,\n",
    "    x0=np.array([1.5,2.5]),\n",
    "    t0=t_start,\n",
    "    tf=t_end,\n",
    "    num_steps=steps,\n",
    ")\n",
    "\n",
    "species_n, times_n = simulate_differential_equation(\n",
    "    lotka_volterra,\n",
    "    x0=np.array([1.5,2.5]),\n",
    "    t0=t_start,\n",
    "    tf=t_end,\n",
    "    num_steps=steps,\n",
    "    noise_intensity=np.array([1e-3,1e-4])\n",
    ")\n"
   ]
  },
  {
   "cell_type": "code",
   "execution_count": null,
   "id": "7c78114c",
   "metadata": {},
   "outputs": [],
   "source": [
    "fig = plt.figure(layout=\"constrained\")\n",
    "fig.set_size_inches(9, 9)\n",
    "fig.tight_layout(pad=10.5)\n",
    "axes = fig.subplots(2,2)\n",
    "\n",
    "axes[0][0].set(title='Qty. vs Time, w/o noise', xlabel=\"t\", ylabel=\"n\")\n",
    "axes[0][1].set(title='Phase diagram, w/o noise', xlabel=\"x\", ylabel=\"y\")\n",
    "axes[0][0].plot(times, species[:,0], label=f\"x\")\n",
    "axes[0][0].plot(times, species[:,1], label=f\"y\")\n",
    "axes[0][1].plot(species[:,0], species[:,1])\n",
    "\n",
    "axes[1][0].set(title='Qty. vs Time, w/ noise', xlabel=\"t\", ylabel=\"n\")\n",
    "axes[1][1].set(title='Phase diagram, w/ noise', xlabel=\"x\", ylabel=\"y\")\n",
    "axes[1][0].plot(times_n, species_n[:,0], label=f\"x\")\n",
    "axes[1][0].plot(times_n, species_n[:,1], label=f\"y\")\n",
    "axes[1][1].plot(species_n[:,0], species_n[:,1])\n",
    "\n",
    "axes[0][0].legend()\n",
    "axes[1][0].legend()\n",
    "# plt.savefig('test_simulate_differential_equations.png')\n",
    "# plt.show(fig)\n",
    "if SAVE_FIG:\n",
    "    plt.savefig(\"lotka_volterra_example.png\")"
   ]
  },
  {
   "cell_type": "markdown",
   "id": "d6ed55e6",
   "metadata": {},
   "source": [
    "## Generating Bulk Simulation Sets"
   ]
  },
  {
   "cell_type": "code",
   "execution_count": null,
   "id": "db2ef3b1",
   "metadata": {},
   "outputs": [],
   "source": [
    "\n",
    "t_start=0\n",
    "t_end = 8\n",
    "steps=200\n",
    "species_lv = []\n",
    "times_lv = []\n",
    "rng_lv = np.random.default_rng(10)\n",
    "for idx in range(5):\n",
    "    species, times = simulate_differential_equation(\n",
    "        lotka_volterra,\n",
    "        # x0=np.array([1.5,2.5]),\n",
    "        x0=rng_lv.random(2)*3,\n",
    "        t0=t_start,\n",
    "        tf=t_end,\n",
    "        num_steps=steps,\n",
    "        noise_intensity=np.array([1e-2,1e-3])\n",
    "    )\n",
    "    species_lv.append(species)\n",
    "    times_lv.append(times)\n",
    "\n",
    "merged_qty_data_lv, merged_times_data_lv, merged_qty_drv_lv = data_set_bundler(species_lv, times_lv)"
   ]
  },
  {
   "cell_type": "code",
   "execution_count": null,
   "id": "afb93364",
   "metadata": {},
   "outputs": [],
   "source": [
    "\n",
    "fig = plt.figure(layout=\"constrained\")\n",
    "fig.set_size_inches(9,5)\n",
    "fig.tight_layout(pad=10.5)\n",
    "axes = fig.subplots(1,2)\n",
    "for idx, (dset, tset) in enumerate(zip(species_lv, times_lv)):\n",
    "    axes[0].plot(tset, dset[:,0], label=f\"$x_{idx}$\")\n",
    "    axes[0].plot(tset, dset[:,1], label=f\"$y_{idx}$\")\n",
    "    axes[1].plot(dset[:,0], dset[:,1], label=f\"{idx}\")\n",
    "\n",
    "axes[0].set(title='Qty. vs Time', xlabel=\"t\", ylabel=\"n\")\n",
    "axes[1].set(title='Phase diagram', xlabel=\"x\", ylabel=\"y\")\n",
    "axes[0].legend()\n",
    "axes[1].legend()\n",
    "\n",
    "if SAVE_FIG:\n",
    "    plt.savefig(\"lotka_volterra.png\")"
   ]
  },
  {
   "cell_type": "markdown",
   "id": "0e346f91",
   "metadata": {},
   "source": [
    "## Apply SR"
   ]
  },
  {
   "cell_type": "code",
   "execution_count": null,
   "id": "0d2690e9",
   "metadata": {},
   "outputs": [],
   "source": [
    "regressor_fit(\n",
    "    merged_qty_data_lv,\n",
    "    merged_qty_drv_lv,\n",
    "    niterations=10,\n",
    ")"
   ]
  },
  {
   "cell_type": "markdown",
   "id": "605c3186",
   "metadata": {},
   "source": [
    "# Generate and Solve a Reaction Network"
   ]
  },
  {
   "cell_type": "markdown",
   "id": "2f0a4bcc",
   "metadata": {},
   "source": [
    "## Generate and Simulate the Network"
   ]
  },
  {
   "cell_type": "code",
   "execution_count": null,
   "id": "215a9dce",
   "metadata": {},
   "outputs": [],
   "source": [
    "\n",
    "rnet = generate_reaction_network(\n",
    "    num_species=3,\n",
    "    num_reactions=4,\n",
    "    # seed=3,\n",
    "    seed=14,\n",
    ")\n",
    "for ode in rnet.odes:\n",
    "    display_latex(Latex(fr\"${sp.printing.latex(ode)}$\"))"
   ]
  },
  {
   "cell_type": "code",
   "execution_count": null,
   "id": "88136526",
   "metadata": {},
   "outputs": [],
   "source": [
    "runs_h = 3\n",
    "runs_w = 4\n",
    "qty_data, times_data = rand_runner(rnet, np.array([1]*len(rnet.species)), runs=runs_h * runs_w)\n",
    "merged_qty_data, merged_times_data, merged_qty_drv = data_set_bundler(qty_data, times_data)"
   ]
  },
  {
   "cell_type": "code",
   "execution_count": null,
   "id": "43f20747",
   "metadata": {},
   "outputs": [],
   "source": [
    "\n",
    "fig = plt.figure(layout=\"constrained\")\n",
    "fig.set_size_inches(\n",
    "    9, 6)\n",
    "\n",
    "axes = fig.subplots(runs_h, runs_w)\n",
    "\n",
    "for run_id, (times, qty) in enumerate(zip(times_data, qty_data)):\n",
    "    for spec_id in range(qty.shape[1]):\n",
    "        axes.flatten()[run_id].plot(times, qty[:, spec_id], label=f\"{spec_id}\")\n",
    "\n",
    "for ax in axes.flatten():\n",
    "    ax.set(xlabel=\"t\", ylabel=\"n\")\n",
    "    ax.legend()\n",
    "\n",
    "if SAVE_FIG:\n",
    "    fig.savefig(\"results_runs_14.png\")"
   ]
  },
  {
   "cell_type": "markdown",
   "id": "d8673b7b",
   "metadata": {},
   "source": [
    "## Apply SR"
   ]
  },
  {
   "cell_type": "code",
   "execution_count": null,
   "id": "e688f86b",
   "metadata": {},
   "outputs": [],
   "source": [
    "try:\n",
    "    del model\n",
    "except NameError:\n",
    "    pass\n",
    "\n",
    "model = regressor_fit(\n",
    "    merged_qty_data,\n",
    "    merged_qty_drv,\n",
    "    niterations=50,\n",
    ")\n",
    "\n",
    "model"
   ]
  }
 ],
 "metadata": {
  "language_info": {
   "name": "python"
  }
 },
 "nbformat": 4,
 "nbformat_minor": 5
}
